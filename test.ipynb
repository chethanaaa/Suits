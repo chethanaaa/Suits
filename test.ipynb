{
 "cells": [
  {
   "cell_type": "code",
   "execution_count": 5,
   "metadata": {},
   "outputs": [
    {
     "name": "stdout",
     "output_type": "stream",
     "text": [
      "Rules matching condition:\n",
      "[{'rule': 'failure_to_provide_essential_services', 'action': 'tenant_entitled_to_substitute_housing_or_rent_deduction'}]\n",
      "Action for rule 'habitability_violation':\n",
      "tenant_entitled_to_rent_reduction_or_abatement\n",
      "{'type': 'percentage', 'value': '25-100', 'calculation_details': 'Percentage of rent abated based on severity and duration of habitability issue.'}\n"
     ]
    }
   ],
   "source": [
    "import json\n",
    "\n",
    "# Load the JSON data\n",
    "with open('./kb2.json', 'r') as file:\n",
    "    kb = json.load(file)\n",
    "\n",
    "# Function to query rules based on a condition\n",
    "def query_rules_by_condition(condition):\n",
    "    results = []\n",
    "    for rule, details in kb['rules'].items():\n",
    "        if condition in details['conditions']:\n",
    "            results.append({\n",
    "                \"rule\": rule,\n",
    "                \"action\": details['action']\n",
    "            })\n",
    "    return results\n",
    "\n",
    "# Function to get the action for a specific rule\n",
    "def get_action_by_rule(rule_name):\n",
    "    rule = kb['rules'].get(rule_name)\n",
    "    if rule:\n",
    "        return rule['action']\n",
    "    else:\n",
    "        return \"Rule not found.\"\n",
    "\n",
    "def get_compensation_details(rule_name):\n",
    "    rule = kb['rules'].get(rule_name)\n",
    "    if not rule:\n",
    "        return {\"error\": \"Rule not found.\"}\n",
    "\n",
    "    compensation = rule.get(\"compensation\")\n",
    "    if not compensation:\n",
    "        return {\"error\": \"Compensation details not defined for this rule.\"}\n",
    "\n",
    "    return compensation\n",
    "\n",
    "# Example Usage\n",
    "condition_to_check = \"no_heat_water_or_electricity\"\n",
    "print(\"Rules matching condition:\")\n",
    "print(query_rules_by_condition(condition_to_check))\n",
    "\n",
    "rule_to_check = \"habitability_violation\"\n",
    "print(f\"Action for rule '{rule_to_check}':\")\n",
    "print(get_action_by_rule(rule_to_check))\n",
    "\n",
    "print(get_compensation_details(rule_to_check))\n"
   ]
  },
  {
   "cell_type": "code",
   "execution_count": 6,
   "metadata": {},
   "outputs": [],
   "source": [
    "import json\n",
    "from typing import Literal\n",
    "from langchain_core.pydantic_v1 import BaseModel, Field, validator\n",
    "from langchain.prompts import PromptTemplate\n",
    "from langchain_experimental.llms.ollama_functions import OllamaFunctions\n",
    "from langchain_openai import OpenAIEmbeddings, ChatOpenAI"
   ]
  },
  {
   "cell_type": "code",
   "execution_count": 8,
   "metadata": {},
   "outputs": [],
   "source": [
    "class RuleSelection(BaseModel):\n",
    "    selected_rule: Literal[\n",
    "        \"habitability_violation\",\n",
    "        \"security_deposit_issue\",\n",
    "        \"failure_to_provide_essential_services\",\n",
    "        \"retaliatory_eviction\",\n",
    "        \"illegal_lockout\",\n",
    "        \"failure_to_address_health_hazard\",\n",
    "        \"unauthorized_entry_by_landlord\",\n",
    "        \"notice_of_foreclosure\"\n",
    "    ]\n",
    "\n",
    "# Prompt template for LLM\n",
    "prompt_template = \"\"\"\n",
    "You are an expert in tenant-landlord laws. Based on the details of a case, select the most applicable rule from the following knowledge base:\n",
    "\n",
    "1. habitability_violation:\n",
    "   - Conditions: Unresolved maintenance issue, health hazard, tenant notified landlord, no repair in reasonable time.\n",
    "   - Action: Tenant entitled to rent reduction or abatement.\n",
    "\n",
    "2. security_deposit_issue:\n",
    "   - Conditions: Security deposit not returned, tenant vacated unit, no damages or unpaid rent.\n",
    "   - Action: Tenant entitled to double the security deposit.\n",
    "\n",
    "3. failure_to_provide_essential_services:\n",
    "   - Conditions: No heat, water, or electricity; tenant provided written notice; landlord noncompliant for 24 hours.\n",
    "   - Action: Tenant entitled to substitute housing or rent deduction.\n",
    "\n",
    "4. retaliatory_eviction:\n",
    "   - Conditions: Tenant reported violation, landlord issued eviction notice, within six months of the report.\n",
    "   - Action: Tenant entitled to remain and landlord fined.\n",
    "\n",
    "5. illegal_lockout:\n",
    "   - Conditions: Tenant locked out without court order, lock changed or entry blocked.\n",
    "   - Action: Tenant entitled to reentry and damages.\n",
    "\n",
    "6. failure_to_address_health_hazard:\n",
    "   - Conditions: Mold or pest issue, tenant has medical report, inspection confirms issue.\n",
    "   - Action: Tenant entitled to injunctive relief and damages.\n",
    "\n",
    "7. unauthorized_entry_by_landlord:\n",
    "   - Conditions: Landlord entered without notice, no emergency or consent.\n",
    "   - Action: Tenant entitled to damages for privacy violation.\n",
    "\n",
    "8. notice_of_foreclosure:\n",
    "   - Conditions: Landlord facing foreclosure, tenant not informed in writing.\n",
    "   - Action: Tenant entitled to terminate the lease.\n",
    "\n",
    "Given the following case details:\n",
    "{case_details}\n",
    "\n",
    "Respond with only the rule name.\n",
    "\"\"\"\n",
    "\n",
    "# llm = OllamaFunctions(model=\"llama3-groq-tool-use\", temperature=0)\n",
    "llm = ChatOpenAI(model_name=\"gpt-3.5-turbo\", openai_api_key=openai_key)\n",
    "structured_llm = llm.with_structured_output(RuleSelection)\n",
    "\n",
    "rules_prompt = PromptTemplate(input_variables=['case_details'], template=prompt_template)\n",
    "\n",
    "rules_chain = rules_prompt | structured_llm\n",
    "\n",
    "case_details_input = \"\"\"\n",
    "On January 5th, 2024, the tenant, Jane Doe, reported a lack of heating in her apartment located at 123 Main Street, Cityville, to her landlord, John Smith, via email. Despite providing written notice and follow-ups, no repairs have been made to restore heating. The issue has persisted for five days, leaving the tenant without adequate heating during a severe winter cold spell. Additionally, the tenant has no access to alternative heating sources due to electrical system limitations, creating unsafe living conditions.\n",
    "\"\"\"\n",
    "\n",
    "res = rules_chain.invoke({\"case_details\": case_details_input})"
   ]
  },
  {
   "cell_type": "code",
   "execution_count": 9,
   "metadata": {},
   "outputs": [
    {
     "data": {
      "text/plain": [
       "'failure_to_provide_essential_services'"
      ]
     },
     "execution_count": 9,
     "metadata": {},
     "output_type": "execute_result"
    }
   ],
   "source": [
    "res.selected_rule"
   ]
  },
  {
   "cell_type": "code",
   "execution_count": 10,
   "metadata": {},
   "outputs": [
    {
     "data": {
      "text/plain": [
       "'tenant_entitled_to_substitute_housing_or_rent_deduction'"
      ]
     },
     "execution_count": 10,
     "metadata": {},
     "output_type": "execute_result"
    }
   ],
   "source": [
    "get_action_by_rule(res.selected_rule)"
   ]
  },
  {
   "cell_type": "code",
   "execution_count": 11,
   "metadata": {},
   "outputs": [
    {
     "data": {
      "text/plain": [
       "{'type': 'fixed_or_percentage',\n",
       " 'value': 'substitute_housing_cost or 50% rent reduction',\n",
       " 'calculation_details': 'Substitute housing costs reimbursed or rent reduced by 50% depending on the severity and duration of the issue.'}"
      ]
     },
     "execution_count": 11,
     "metadata": {},
     "output_type": "execute_result"
    }
   ],
   "source": [
    "get_compensation_details(res.selected_rule)"
   ]
  },
  {
   "cell_type": "markdown",
   "metadata": {},
   "source": [
    "### Decision readiness"
   ]
  },
  {
   "cell_type": "code",
   "execution_count": 12,
   "metadata": {},
   "outputs": [],
   "source": [
    "class DecisionReadiness(BaseModel):\n",
    "    decision_ready: Literal[\"yes\", \"no\"]"
   ]
  },
  {
   "cell_type": "code",
   "execution_count": 18,
   "metadata": {},
   "outputs": [],
   "source": [
    "prompt_template = \"\"\"\n",
    "You are an expert in tenant-landlord laws. Your task is to determine if there is enough information in the given conversation between the user and the LLM to reasonably assess which rule applies. The rules are based on the following conditions:\n",
    "\n",
    "1. Habitability Violation:\n",
    "   - Conditions: Unresolved maintenance issue, health hazard, tenant notified landlord, no repair in reasonable time.\n",
    "\n",
    "2. Security Deposit Issue:\n",
    "   - Conditions: Security deposit not returned, tenant vacated unit, no damages or unpaid rent.\n",
    "\n",
    "3. Failure to Provide Essential Services:\n",
    "   - Conditions: No heat, water, or electricity; tenant provided written notice; landlord noncompliant for 24 hours.\n",
    "\n",
    "4. Retaliatory Eviction:\n",
    "   - Conditions: Tenant reported violation, landlord issued eviction notice, within six months of the report.\n",
    "\n",
    "5. Illegal Lockout:\n",
    "   - Conditions: Tenant locked out without court order, lock changed or entry blocked.\n",
    "\n",
    "6. Failure to Address Health Hazard:\n",
    "   - Conditions: Mold or pest issue, tenant has medical report, inspection confirms issue.\n",
    "\n",
    "7. Unauthorized Entry by Landlord:\n",
    "   - Conditions: Landlord entered without notice, no emergency or consent.\n",
    "\n",
    "8. Notice of Foreclosure:\n",
    "   - Conditions: Landlord facing foreclosure, tenant not informed in writing.\n",
    "\n",
    "To decide if there is enough information:\n",
    "- All conditions for at least one rule should be met or clearly implied.\n",
    "- If most required conditions for one rule are met or strongly implied, respond with \"yes.\"\n",
    "- If critical conditions are missing or highly ambiguous, respond with \"no.\"\n",
    "\n",
    "Given the following conversation:\n",
    "{conversation}\n",
    "\n",
    "Respond with only \"yes\" or \"no\".\n",
    "\"\"\"\n",
    "\n",
    "# llm = OllamaFunctions(model=\"llama3-groq-tool-use\", temperature=0)\n",
    "llm = ChatOpenAI(model_name=\"gpt-3.5-turbo\", openai_api_key=openai_key)\n",
    "structured_llm = llm.with_structured_output(DecisionReadiness)\n",
    "\n",
    "decision_prompt = PromptTemplate(input_variables=['conversation'], template=prompt_template)\n",
    "\n",
    "decision_chain = decision_prompt | structured_llm"
   ]
  },
  {
   "cell_type": "code",
   "execution_count": 19,
   "metadata": {},
   "outputs": [
    {
     "data": {
      "text/plain": [
       "'yes'"
      ]
     },
     "execution_count": 19,
     "metadata": {},
     "output_type": "execute_result"
    }
   ],
   "source": [
    "# Sufficient information\n",
    "conversation = \"\"\"\n",
    "User: My landlord has been refusing to return my security deposit even though I moved out two months ago.\n",
    "LLM: Did you leave the unit in good condition, with no damages or unpaid rent?\n",
    "User: Yes, I cleaned the apartment thoroughly, and I don’t owe any rent.\n",
    "LLM: Did you ask your landlord about the deposit, and what was their response?\n",
    "User: Yes, I asked multiple times, but they keep ignoring my messages.\n",
    "\"\"\"\n",
    "\n",
    "res = decision_chain.invoke({'conversation': conversation})\n",
    "res.decision_ready"
   ]
  },
  {
   "cell_type": "code",
   "execution_count": 20,
   "metadata": {},
   "outputs": [
    {
     "data": {
      "text/plain": [
       "'no'"
      ]
     },
     "execution_count": 20,
     "metadata": {},
     "output_type": "execute_result"
    }
   ],
   "source": [
    "# Insufficient Information\n",
    "conversation = \"\"\"\n",
    "User: My apartment has a maintenance issue that hasn’t been resolved for a while.\n",
    "LLM: Could you describe the issue in more detail? Is it affecting your health or safety?\n",
    "User: It’s just a plumbing issue, but it’s inconvenient.\n",
    "LLM: Have you notified your landlord about this issue? If so, how long has it been since you informed them?\n",
    "User: I haven’t told them yet; I was hoping they’d notice during their visits.\n",
    "\"\"\"\n",
    "\n",
    "res = decision_chain.invoke({'conversation': conversation})\n",
    "res.decision_ready"
   ]
  }
 ],
 "metadata": {
  "kernelspec": {
   "display_name": "base",
   "language": "python",
   "name": "python3"
  },
  "language_info": {
   "codemirror_mode": {
    "name": "ipython",
    "version": 3
   },
   "file_extension": ".py",
   "mimetype": "text/x-python",
   "name": "python",
   "nbconvert_exporter": "python",
   "pygments_lexer": "ipython3",
   "version": "3.10.12"
  }
 },
 "nbformat": 4,
 "nbformat_minor": 2
}
